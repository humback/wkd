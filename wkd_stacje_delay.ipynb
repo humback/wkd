{
 "cells": [
  {
   "cell_type": "code",
   "execution_count": 51,
   "metadata": {},
   "outputs": [
    {
     "name": "stdout",
     "output_type": "stream",
     "text": [
      "     trip_id arrival_time departure_time stop_id  stop_sequence\n",
      "0      C-303     05:05:00       05:05:00   wsrod              0\n",
      "1      C-303     05:07:00       05:07:00   wocho              1\n",
      "2      C-303     05:10:00       05:10:00   wzach              2\n",
      "3      C-303     05:12:00       05:12:00   wreor              3\n",
      "4      C-303     05:14:00       05:14:00   walje              4\n",
      "...      ...          ...            ...     ...            ...\n",
      "6283   D-101     25:12:00       25:12:00   brzoz             21\n",
      "6284   D-101     25:14:00       25:14:00   gmokr             22\n",
      "6285   D-101     25:16:00       25:16:00   gmpia             23\n",
      "6286   D-101     25:18:00       25:18:00   gmjor             24\n",
      "6287   D-101     25:23:00       25:23:00   gmrad             25\n",
      "\n",
      "[6288 rows x 5 columns]\n"
     ]
    }
   ],
   "source": [
    "from google.transit import gtfs_realtime_pb2\n",
    "from google.protobuf.json_format import MessageToJson\n",
    "import urllib.request\n",
    "import time\n",
    "import pytz\n",
    "import json\n",
    "import numpy as np\n",
    "import pandas as pd\n",
    "from datetime import datetime\n",
    "from datetime import date\n",
    "\n",
    "def scheduleDateTime(stop_time):\n",
    "    dt=date.today()\n",
    "    time_obj = datetime.strptime(stop_time, \"%H:%M:%S\").time()\n",
    "    dt_with_time = datetime.combine(dt, time_obj)\n",
    "    dt_with_time = pytz.timezone('Europe/Warsaw').localize(dt_with_time)\n",
    "    return dt_with_time\n",
    "\n",
    "feed = gtfs_realtime_pb2.FeedMessage()\n",
    "response = urllib.request.urlopen('https://mkuran.pl/gtfs/wkd.pb')\n",
    "feed.ParseFromString(response.read())\n",
    "\n",
    "rozklad = pd.read_csv(r'C:\\Users\\hmackowski\\Desktop\\python scripts\\wkd\\wkd_gtfs\\stop_times.txt', sep=',')\n",
    "print(rozklad)\n",
    "json_wkd = MessageToJson(feed)\n",
    "#print(json_wkd)\n",
    "json_wkd=json.loads(json_wkd)\n",
    "json_wkd=json_wkd['entity']\n",
    "#print(json_wkd)\n",
    "\n"
   ]
  },
  {
   "attachments": {},
   "cell_type": "markdown",
   "metadata": {},
   "source": [
    "opis"
   ]
  },
  {
   "cell_type": "code",
   "execution_count": 52,
   "metadata": {},
   "outputs": [],
   "source": [
    "df = pd.json_normalize(json_wkd)\n"
   ]
  },
  {
   "cell_type": "code",
   "execution_count": 53,
   "metadata": {},
   "outputs": [
    {
     "name": "stdout",
     "output_type": "stream",
     "text": [
      "    stopId            departure.time      id\n",
      "0    gmokr 2023-03-29 14:18:00+02:00  D-3004\n",
      "1    gmrad 2023-03-29 14:05:00+02:00  D-3004\n",
      "2    gmpia 2023-03-29 14:16:00+02:00  D-3004\n",
      "3    kazim 2023-03-29 14:29:00+02:00  D-3004\n",
      "4    plzac 2023-03-29 14:32:00+02:00  D-3004\n",
      "..     ...                       ...     ...\n",
      "275  walje 2023-03-29 13:14:00+02:00   D-393\n",
      "276  wsrod 2023-03-29 13:05:00+02:00   D-393\n",
      "277  wzach 2023-03-29 13:10:00+02:00   D-393\n",
      "278  wreor 2023-03-29 13:12:00+02:00   D-393\n",
      "279  wocho 2023-03-29 13:07:00+02:00   D-393\n",
      "\n",
      "[280 rows x 3 columns]\n"
     ]
    }
   ],
   "source": [
    "df = pd.json_normalize(json_wkd, record_path=['tripUpdate','stopTimeUpdate'],meta=['id'])\n",
    "tz = pytz.timezone('Europe/Warsaw')\n",
    "df['departure.time'] = pd.to_datetime(df['departure.time'], unit='s').apply(lambda x: pd.Timestamp(x).tz_localize(None).tz_localize('UTC').tz_convert(tz))\n",
    "print(df)"
   ]
  },
  {
   "cell_type": "code",
   "execution_count": 54,
   "metadata": {},
   "outputs": [
    {
     "name": "stdout",
     "output_type": "stream",
     "text": [
      "    stopId            departure.time     id\n",
      "36   nwwar 2023-03-29 12:53:00+02:00  D-378\n",
      "65   nwwar 2023-03-29 12:37:00+02:00  D-381\n",
      "93   nwwar 2023-03-29 12:23:00+02:00  D-370\n",
      "120  nwwar 2023-03-29 12:38:00+02:00  D-374\n",
      "137  nwwar 2023-03-29 13:07:00+02:00  D-385\n",
      "161  nwwar 2023-03-29 12:24:00+02:00  D-377\n",
      "179  nwwar 2023-03-29 12:08:00+02:00  D-368\n",
      "226  nwwar 2023-03-29 13:08:00+02:00  D-380\n",
      "245  nwwar 2023-03-29 12:07:00+02:00  D-373\n",
      "256  nwwar 2023-03-29 12:52:00+02:00  D-383\n",
      "     trip_id arrival_time departure_time stop_id  stop_sequence\n",
      "14     C-303     05:37:00       05:37:00   nwwar             14\n",
      "36     C-105     05:52:00       05:52:00   nwwar             14\n",
      "62     C-309     06:12:00       06:12:00   nwwar             14\n",
      "84     C-313     06:32:00       06:32:00   nwwar             14\n",
      "103    C-109     06:52:00       06:52:00   nwwar             14\n",
      "...      ...          ...            ...     ...            ...\n",
      "6176   D-153     23:14:00       23:14:00   nwwar             14\n",
      "6202  D-3097     23:37:00       23:37:00   nwwar             14\n",
      "6224   D-155     24:08:00       24:08:00   nwwar             14\n",
      "6250   D-157     24:30:00       24:30:00   nwwar             14\n",
      "6276   D-101     24:52:00       24:52:00   nwwar             14\n",
      "\n",
      "[284 rows x 5 columns]\n"
     ]
    }
   ],
   "source": [
    "actual = df[df['stopId'] == 'nwwar']\n",
    "  \n",
    "print(actual)\n",
    "\n",
    "rozklad_filtr = rozklad[rozklad['stop_id'] == 'nwwar']\n",
    "  \n",
    "print(rozklad_filtr)"
   ]
  },
  {
   "cell_type": "code",
   "execution_count": 61,
   "metadata": {},
   "outputs": [
    {
     "name": "stdout",
     "output_type": "stream",
     "text": [
      "direction    id stopId  delay              arrival_time            departure.time\n",
      "        P D-373  nwwar    0.0 2023-03-29 12:07:00+02:00 2023-03-29 12:07:00+02:00\n",
      "        P D-377  nwwar    2.0 2023-03-29 12:22:00+02:00 2023-03-29 12:24:00+02:00\n",
      "        P D-381  nwwar    0.0 2023-03-29 12:37:00+02:00 2023-03-29 12:37:00+02:00\n",
      "        P D-383  nwwar    0.0 2023-03-29 12:52:00+02:00 2023-03-29 12:52:00+02:00\n",
      "        P D-385  nwwar    0.0 2023-03-29 13:07:00+02:00 2023-03-29 13:07:00+02:00\n",
      "direction    id stopId  delay              arrival_time            departure.time\n",
      "        W D-368  nwwar    0.0 2023-03-29 12:08:00+02:00 2023-03-29 12:08:00+02:00\n",
      "        W D-370  nwwar    0.0 2023-03-29 12:23:00+02:00 2023-03-29 12:23:00+02:00\n",
      "        W D-374  nwwar    0.0 2023-03-29 12:38:00+02:00 2023-03-29 12:38:00+02:00\n",
      "        W D-378  nwwar    0.0 2023-03-29 12:53:00+02:00 2023-03-29 12:53:00+02:00\n",
      "        W D-380  nwwar    0.0 2023-03-29 13:08:00+02:00 2023-03-29 13:08:00+02:00\n"
     ]
    }
   ],
   "source": [
    "# merge dataframes based on key_col1 and key_col2\n",
    "merged_df = pd.merge(actual, rozklad, left_on=['id','stopId'], right_on=['trip_id','stop_id'], how='left')\n",
    "\n",
    "merged_df = merged_df.drop(columns=['trip_id','stop_id','departure_time'])\n",
    "merged_df = merged_df.sort_values(by='departure.time')\n",
    "\n",
    "merged_df['arrival_time'] = merged_df['arrival_time'].fillna(merged_df['departure.time'].apply(lambda x: x.strftime('%H:%M:%S')))\n",
    "#print(merged_df)\n",
    "\n",
    "merged_df['arrival_time'] = merged_df['arrival_time'].apply(scheduleDateTime)\n",
    "\n",
    "merged_df['delay']=merged_df['departure.time']-merged_df['arrival_time']\n",
    "\n",
    "merged_df['delay'] = merged_df['delay'].apply(lambda x: x.total_seconds() / 60)\n",
    "\n",
    "\n",
    "merged_df['direction'] = merged_df['id'].apply(lambda x: 'W' if int(x[2:]) % 2 == 0 else 'P')\n",
    "merged_df=merged_df[['direction','id','stopId','delay','arrival_time','departure.time']]\n",
    "mask = merged_df['direction'] == 'P'\n",
    "print(merged_df[mask].to_string(index=False))\n",
    "\n",
    "mask = merged_df['direction'] == 'W'\n",
    "print(merged_df[mask].to_string(index=False))"
   ]
  },
  {
   "cell_type": "code",
   "execution_count": null,
   "metadata": {},
   "outputs": [],
   "source": [
    "\n",
    "\n",
    "\n"
   ]
  }
 ],
 "metadata": {
  "kernelspec": {
   "display_name": "base",
   "language": "python",
   "name": "python3"
  },
  "language_info": {
   "codemirror_mode": {
    "name": "ipython",
    "version": 3
   },
   "file_extension": ".py",
   "mimetype": "text/x-python",
   "name": "python",
   "nbconvert_exporter": "python",
   "pygments_lexer": "ipython3",
   "version": "3.9.13"
  },
  "orig_nbformat": 4
 },
 "nbformat": 4,
 "nbformat_minor": 2
}
