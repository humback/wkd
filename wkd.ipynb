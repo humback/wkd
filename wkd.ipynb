{
 "cells": [
  {
   "cell_type": "code",
   "execution_count": 406,
   "metadata": {},
   "outputs": [
    {
     "name": "stdout",
     "output_type": "stream",
     "text": [
      "     trip_id arrival_time departure_time stop_id  stop_sequence\n",
      "0      C-303     05:05:00       05:05:00   wsrod              0\n",
      "1      C-303     05:07:00       05:07:00   wocho              1\n",
      "2      C-303     05:10:00       05:10:00   wzach              2\n",
      "3      C-303     05:12:00       05:12:00   wreor              3\n",
      "4      C-303     05:14:00       05:14:00   walje              4\n",
      "...      ...          ...            ...     ...            ...\n",
      "6283   D-101     25:12:00       25:12:00   brzoz             21\n",
      "6284   D-101     25:14:00       25:14:00   gmokr             22\n",
      "6285   D-101     25:16:00       25:16:00   gmpia             23\n",
      "6286   D-101     25:18:00       25:18:00   gmjor             24\n",
      "6287   D-101     25:23:00       25:23:00   gmrad             25\n",
      "\n",
      "[6288 rows x 5 columns]\n"
     ]
    }
   ],
   "source": [
    "from google.transit import gtfs_realtime_pb2\n",
    "from google.protobuf.json_format import MessageToJson\n",
    "import urllib.request\n",
    "import time\n",
    "import pytz\n",
    "import json\n",
    "import pandas as pd\n",
    "from datetime import datetime\n",
    "from datetime import date\n",
    "\n",
    "def scheduleDateTime(stop_time):\n",
    "    if pd.isna(stop_time):\n",
    "        return 0\n",
    "    time_obj = datetime.strptime(stop_time, \"%H:%M:%S\").time()\n",
    "    dt_with_time = datetime.combine(dt, time_obj)\n",
    "    dt_with_time = pytz.timezone('Europe/Warsaw').localize(dt_with_time)\n",
    "    return dt_with_time\n",
    "\n",
    "feed = gtfs_realtime_pb2.FeedMessage()\n",
    "response = urllib.request.urlopen('https://mkuran.pl/gtfs/wkd.pb')\n",
    "feed.ParseFromString(response.read())\n",
    "\n",
    "rozklad = pd.read_csv(r'C:\\Users\\hmackowski\\Desktop\\python scripts\\wkd\\stop_times.txt', sep=',')\n",
    "print(rozklad)\n",
    "json_wkd = MessageToJson(feed)\n",
    "#print(json_wkd)\n",
    "json_wkd=json.loads(json_wkd)\n",
    "json_wkd=json_wkd['entity']\n",
    "#print(json_wkd)\n",
    "\n"
   ]
  },
  {
   "cell_type": "code",
   "execution_count": 407,
   "metadata": {},
   "outputs": [],
   "source": [
    "df = pd.json_normalize(json_wkd)\n"
   ]
  },
  {
   "cell_type": "code",
   "execution_count": 408,
   "metadata": {},
   "outputs": [
    {
     "name": "stdout",
     "output_type": "stream",
     "text": [
      "    stopId            departure.time      id\n",
      "0    gmokr 2023-03-28 23:14:00+02:00   D-151\n",
      "1    kazim 2023-03-28 23:09:00+02:00   D-151\n",
      "2    wrako 2023-03-28 22:31:00+02:00   D-151\n",
      "3    gmjor 2023-03-28 23:18:00+02:00   D-151\n",
      "4    brzoz 2023-03-28 23:12:00+02:00   D-151\n",
      "..     ...                       ...     ...\n",
      "244  milgr 2023-03-28 22:39:00+02:00  D-5337\n",
      "245  poles 2023-03-28 21:42:00+02:00  D-3085\n",
      "246  milgr 2023-03-28 21:44:00+02:00  D-3085\n",
      "247  poles 2023-03-28 21:42:00+02:00  D-5335\n",
      "248  milgr 2023-03-28 21:44:00+02:00  D-5335\n",
      "\n",
      "[249 rows x 3 columns]\n"
     ]
    }
   ],
   "source": [
    "df = pd.json_normalize(json_wkd, record_path=['tripUpdate','stopTimeUpdate'],meta=['id'])\n",
    "tz = pytz.timezone('Europe/Warsaw')\n",
    "df['departure.time'] = pd.to_datetime(df['departure.time'], unit='s').apply(lambda x: pd.Timestamp(x).tz_localize(None).tz_localize('UTC').tz_convert(tz))\n",
    "print(df)"
   ]
  },
  {
   "cell_type": "code",
   "execution_count": 409,
   "metadata": {},
   "outputs": [
    {
     "name": "stdout",
     "output_type": "stream",
     "text": [
      "    stopId            departure.time      id\n",
      "88   plglo 2023-03-28 22:32:00+02:00  D-3093\n",
      "89   wrako 2023-03-28 21:56:00+02:00  D-3093\n",
      "90   malic 2023-03-28 22:07:00+02:00  D-3093\n",
      "91   wsalo 2023-03-28 21:58:00+02:00  D-3093\n",
      "92   poles 2023-03-28 22:37:00+02:00  D-3093\n",
      "93   wocho 2023-03-28 21:47:00+02:00  D-3093\n",
      "94   wsrod 2023-03-28 21:45:00+02:00  D-3093\n",
      "95   milgr 2023-03-28 22:39:00+02:00  D-3093\n",
      "96   prusz 2023-03-28 22:12:00+02:00  D-3093\n",
      "97   regul 2023-03-28 22:05:00+02:00  D-3093\n",
      "98   micha 2023-03-28 22:03:00+02:00  D-3093\n",
      "99   walje 2023-03-28 21:54:00+02:00  D-3093\n",
      "100  wzach 2023-03-28 21:50:00+02:00  D-3093\n",
      "101  otreb 2023-03-28 22:21:00+02:00  D-3093\n",
      "102  komor 2023-03-28 22:15:00+02:00  D-3093\n",
      "103  wreor 2023-03-28 21:52:00+02:00  D-3093\n",
      "104  plwsc 2023-03-28 22:23:00+02:00  D-3093\n",
      "105  nwwar 2023-03-28 22:17:00+02:00  D-3093\n",
      "106  opacz 2023-03-28 22:00:00+02:00  D-3093\n",
      "107  kanie 2023-03-28 22:19:00+02:00  D-3093\n",
      "108  twork 2023-03-28 22:10:00+02:00  D-3093\n",
      "     trip_id arrival_time departure_time stop_id  stop_sequence\n",
      "6088  D-3093     21:45:00       21:45:00   wsrod              0\n",
      "6089  D-3093     21:47:00       21:47:00   wocho              1\n",
      "6090  D-3093     21:50:00       21:50:00   wzach              2\n",
      "6091  D-3093     21:52:00       21:52:00   wreor              3\n",
      "6092  D-3093     21:54:00       21:54:00   walje              4\n",
      "6093  D-3093     21:56:00       21:56:00   wrako              5\n",
      "6094  D-3093     21:58:00       21:58:00   wsalo              6\n",
      "6095  D-3093     22:00:00       22:00:00   opacz              7\n",
      "6096  D-3093     22:03:00       22:03:00   micha              8\n",
      "6097  D-3093     22:05:00       22:05:00   regul              9\n",
      "6098  D-3093     22:07:00       22:07:00   malic             10\n",
      "6099  D-3093     22:10:00       22:10:00   twork             11\n",
      "6100  D-3093     22:12:00       22:12:00   prusz             12\n",
      "6101  D-3093     22:14:00       22:15:00   komor             13\n",
      "6102  D-3093     22:17:00       22:17:00   nwwar             14\n",
      "6103  D-3093     22:19:00       22:19:00   kanie             15\n",
      "6104  D-3093     22:21:00       22:21:00   otreb             16\n",
      "6105  D-3093     22:23:00       22:23:00   plwsc             17\n",
      "6106  D-3093     22:26:00       22:26:00   plglo             18\n"
     ]
    }
   ],
   "source": [
    "actual = df[df['id'] == 'D-3097']\n",
    "  \n",
    "print(actual)\n",
    "\n",
    "rozklad_filtr = rozklad[rozklad['trip_id'] == 'D-3097']\n",
    "  \n",
    "print(rozklad_filtr)"
   ]
  },
  {
   "cell_type": "code",
   "execution_count": 413,
   "metadata": {},
   "outputs": [
    {
     "name": "stdout",
     "output_type": "stream",
     "text": [
      "   stopId            departure.time      id arrival_time  stop_sequence\n",
      "6   wsrod 2023-03-28 21:45:00+02:00  D-3093     21:45:00            0.0\n",
      "5   wocho 2023-03-28 21:47:00+02:00  D-3093     21:47:00            1.0\n",
      "12  wzach 2023-03-28 21:50:00+02:00  D-3093     21:50:00            2.0\n",
      "15  wreor 2023-03-28 21:52:00+02:00  D-3093     21:52:00            3.0\n",
      "11  walje 2023-03-28 21:54:00+02:00  D-3093     21:54:00            4.0\n",
      "1   wrako 2023-03-28 21:56:00+02:00  D-3093     21:56:00            5.0\n",
      "3   wsalo 2023-03-28 21:58:00+02:00  D-3093     21:58:00            6.0\n",
      "18  opacz 2023-03-28 22:00:00+02:00  D-3093     22:00:00            7.0\n",
      "10  micha 2023-03-28 22:03:00+02:00  D-3093     22:03:00            8.0\n",
      "9   regul 2023-03-28 22:05:00+02:00  D-3093     22:05:00            9.0\n",
      "2   malic 2023-03-28 22:07:00+02:00  D-3093     22:07:00           10.0\n",
      "20  twork 2023-03-28 22:10:00+02:00  D-3093     22:10:00           11.0\n",
      "8   prusz 2023-03-28 22:12:00+02:00  D-3093     22:12:00           12.0\n",
      "14  komor 2023-03-28 22:15:00+02:00  D-3093     22:14:00           13.0\n",
      "17  nwwar 2023-03-28 22:17:00+02:00  D-3093     22:17:00           14.0\n",
      "19  kanie 2023-03-28 22:19:00+02:00  D-3093     22:19:00           15.0\n",
      "13  otreb 2023-03-28 22:21:00+02:00  D-3093     22:21:00           16.0\n",
      "16  plwsc 2023-03-28 22:23:00+02:00  D-3093     22:23:00           17.0\n",
      "0   plglo 2023-03-28 22:32:00+02:00  D-3093     22:26:00           18.0\n",
      "4   poles 2023-03-28 22:37:00+02:00  D-3093     22:37:00            NaN\n",
      "7   milgr 2023-03-28 22:39:00+02:00  D-3093     22:39:00            NaN\n",
      "   stopId            departure.time      id              arrival_time  \\\n",
      "6   wsrod 2023-03-28 21:45:00+02:00  D-3093 2023-03-28 21:45:00+02:00   \n",
      "5   wocho 2023-03-28 21:47:00+02:00  D-3093 2023-03-28 21:47:00+02:00   \n",
      "12  wzach 2023-03-28 21:50:00+02:00  D-3093 2023-03-28 21:50:00+02:00   \n",
      "15  wreor 2023-03-28 21:52:00+02:00  D-3093 2023-03-28 21:52:00+02:00   \n",
      "11  walje 2023-03-28 21:54:00+02:00  D-3093 2023-03-28 21:54:00+02:00   \n",
      "1   wrako 2023-03-28 21:56:00+02:00  D-3093 2023-03-28 21:56:00+02:00   \n",
      "3   wsalo 2023-03-28 21:58:00+02:00  D-3093 2023-03-28 21:58:00+02:00   \n",
      "18  opacz 2023-03-28 22:00:00+02:00  D-3093 2023-03-28 22:00:00+02:00   \n",
      "10  micha 2023-03-28 22:03:00+02:00  D-3093 2023-03-28 22:03:00+02:00   \n",
      "9   regul 2023-03-28 22:05:00+02:00  D-3093 2023-03-28 22:05:00+02:00   \n",
      "2   malic 2023-03-28 22:07:00+02:00  D-3093 2023-03-28 22:07:00+02:00   \n",
      "20  twork 2023-03-28 22:10:00+02:00  D-3093 2023-03-28 22:10:00+02:00   \n",
      "8   prusz 2023-03-28 22:12:00+02:00  D-3093 2023-03-28 22:12:00+02:00   \n",
      "14  komor 2023-03-28 22:15:00+02:00  D-3093 2023-03-28 22:14:00+02:00   \n",
      "17  nwwar 2023-03-28 22:17:00+02:00  D-3093 2023-03-28 22:17:00+02:00   \n",
      "19  kanie 2023-03-28 22:19:00+02:00  D-3093 2023-03-28 22:19:00+02:00   \n",
      "13  otreb 2023-03-28 22:21:00+02:00  D-3093 2023-03-28 22:21:00+02:00   \n",
      "16  plwsc 2023-03-28 22:23:00+02:00  D-3093 2023-03-28 22:23:00+02:00   \n",
      "0   plglo 2023-03-28 22:32:00+02:00  D-3093 2023-03-28 22:26:00+02:00   \n",
      "4   poles 2023-03-28 22:37:00+02:00  D-3093 2023-03-28 22:37:00+02:00   \n",
      "7   milgr 2023-03-28 22:39:00+02:00  D-3093 2023-03-28 22:39:00+02:00   \n",
      "\n",
      "    stop_sequence  delay  \n",
      "6             0.0    0.0  \n",
      "5             1.0    0.0  \n",
      "12            2.0    0.0  \n",
      "15            3.0    0.0  \n",
      "11            4.0    0.0  \n",
      "1             5.0    0.0  \n",
      "3             6.0    0.0  \n",
      "18            7.0    0.0  \n",
      "10            8.0    0.0  \n",
      "9             9.0    0.0  \n",
      "2            10.0    0.0  \n",
      "20           11.0    0.0  \n",
      "8            12.0    0.0  \n",
      "14           13.0   -1.0  \n",
      "17           14.0    0.0  \n",
      "19           15.0    0.0  \n",
      "13           16.0    0.0  \n",
      "16           17.0    0.0  \n",
      "0            18.0   -6.0  \n",
      "4             NaN    0.0  \n",
      "7             NaN    0.0  \n"
     ]
    }
   ],
   "source": [
    "# merge dataframes based on key_col1 and key_col2\n",
    "merged_df = pd.merge(actual, rozklad, left_on=['id','stopId'], right_on=['trip_id','stop_id'], how='left')\n",
    "\n",
    "merged_df = merged_df.drop(columns=['trip_id','stop_id','departure_time'])\n",
    "merged_df = merged_df.sort_values(by='stop_sequence')\n",
    "\n",
    "merged_df['arrival_time'] = merged_df['arrival_time'].fillna(merged_df['departure.time'].apply(lambda x: x.strftime('%H:%M:%S')))\n",
    "print(merged_df)\n",
    "\n",
    "merged_df['arrival_time'] = merged_df['arrival_time'].apply(scheduleDateTime)\n",
    "\n",
    "merged_df['delay']=merged_df['arrival_time']-merged_df['departure.time']\n",
    "\n",
    "merged_df['delay'] = merged_df['delay'].apply(lambda x: x.total_seconds() / 60)\n",
    "\n",
    "\n",
    "print(merged_df)"
   ]
  },
  {
   "cell_type": "code",
   "execution_count": null,
   "metadata": {},
   "outputs": [],
   "source": [
    "\n",
    "\n",
    "\n"
   ]
  }
 ],
 "metadata": {
  "kernelspec": {
   "display_name": "base",
   "language": "python",
   "name": "python3"
  },
  "language_info": {
   "codemirror_mode": {
    "name": "ipython",
    "version": 3
   },
   "file_extension": ".py",
   "mimetype": "text/x-python",
   "name": "python",
   "nbconvert_exporter": "python",
   "pygments_lexer": "ipython3",
   "version": "3.9.13"
  },
  "orig_nbformat": 4
 },
 "nbformat": 4,
 "nbformat_minor": 2
}
