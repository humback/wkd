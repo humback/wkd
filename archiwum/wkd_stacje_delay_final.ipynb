{
 "cells": [
  {
   "cell_type": "code",
   "execution_count": 7,
   "metadata": {},
   "outputs": [],
   "source": [
    "from google.transit import gtfs_realtime_pb2\n",
    "from google.protobuf.json_format import MessageToJson\n",
    "\n",
    "import requests\n",
    "import time\n",
    "import pytz\n",
    "import json\n",
    "import numpy as np\n",
    "import pandas as pd\n",
    "from datetime import datetime\n",
    "from datetime import date\n",
    "\n",
    "rozklad = pd.read_csv(r'/home/humback/Pulpit/wkd/wkd_gtfs/stop_times.txt', sep=',')\n",
    "feed = gtfs_realtime_pb2.FeedMessage()\n",
    "url = 'https://mkuran.pl/gtfs/wkd.pb'\n",
    "\n",
    "def scheduleDateTime(stop_time):\n",
    "    dt=date.today()\n",
    "    time_obj = datetime.strptime(stop_time, \"%H:%M:%S\").time()\n",
    "    dt_with_time = datetime.combine(dt, time_obj)\n",
    "    dt_with_time = pytz.timezone('Europe/Warsaw').localize(dt_with_time)\n",
    "    return dt_with_time\n",
    "def gtfsRtUpdate(stop_id, direction):\n",
    "    response = requests.get(url)\n",
    "    feed.ParseFromString(response.content)\n",
    "\n",
    "    json_wkd = MessageToJson(feed)\n",
    "    json_wkd=json.loads(json_wkd)\n",
    "    json_wkd=json_wkd['entity']\n",
    "\n",
    "    df = pd.json_normalize(json_wkd, record_path=['tripUpdate','stopTimeUpdate'],meta=['id'])\n",
    "    tz = pytz.timezone('Europe/Warsaw')\n",
    "    df['departure.time'] = pd.to_datetime(df['departure.time'], unit='s').apply(lambda x: pd.Timestamp(x).tz_localize(None).tz_localize('UTC').tz_convert(tz))\n",
    "    actual = df[df['stopId'] == stop_id]\n",
    "    merged_df = pd.merge(actual, rozklad, left_on=['id','stopId'], right_on=['trip_id','stop_id'], how='left')\n",
    "    merged_df = merged_df.drop(columns=['trip_id','stop_id','departure_time'])\n",
    "    merged_df = merged_df.sort_values(by='departure.time')\n",
    "    merged_df['arrival_time'] = merged_df['arrival_time'].fillna(merged_df['departure.time'].apply(lambda x: x.strftime('%H:%M:%S')))\n",
    "    merged_df['arrival_time'] = merged_df['arrival_time'].apply(scheduleDateTime)\n",
    "    merged_df['delay']=merged_df['departure.time']-merged_df['arrival_time']\n",
    "    merged_df['delay'] = merged_df['delay'].apply(lambda x: x.total_seconds() / 60)\n",
    "    merged_df['direction'] = merged_df['id'].apply(lambda x: 'W' if int(x[2:]) % 2 == 0 else 'P')\n",
    "    merged_df=merged_df[['direction','id','stopId','delay','arrival_time','departure.time']]\n",
    "\n",
    "    mask = merged_df['direction'] == direction\n",
    "    merged_df=merged_df[mask]\n",
    "    merged_df.set_index('id',inplace=True)\n",
    "    print(merged_df)\n",
    "    return merged_df.to_json(orient='index')"
   ]
  },
  {
   "cell_type": "code",
   "execution_count": 8,
   "metadata": {},
   "outputs": [
    {
     "name": "stdout",
     "output_type": "stream",
     "text": [
      "      direction stopId  delay              arrival_time  \\\n",
      "id                                                        \n",
      "D-381         P  nwwar    0.0 2023-03-30 12:37:00+02:00   \n",
      "D-383         P  nwwar    2.0 2023-03-30 12:52:00+02:00   \n",
      "D-385         P  nwwar    0.0 2023-03-30 13:07:00+02:00   \n",
      "D-389         P  nwwar    0.0 2023-03-30 13:22:00+02:00   \n",
      "D-393         P  nwwar    0.0 2023-03-30 13:37:00+02:00   \n",
      "\n",
      "                 departure.time  \n",
      "id                               \n",
      "D-381 2023-03-30 12:37:00+02:00  \n",
      "D-383 2023-03-30 12:54:00+02:00  \n",
      "D-385 2023-03-30 13:07:00+02:00  \n",
      "D-389 2023-03-30 13:22:00+02:00  \n",
      "D-393 2023-03-30 13:37:00+02:00  \n",
      "{\"D-381\":{\"direction\":\"P\",\"stopId\":\"nwwar\",\"delay\":0.0,\"arrival_time\":1680172620000,\"departure.time\":1680172620000},\"D-383\":{\"direction\":\"P\",\"stopId\":\"nwwar\",\"delay\":2.0,\"arrival_time\":1680173520000,\"departure.time\":1680173640000},\"D-385\":{\"direction\":\"P\",\"stopId\":\"nwwar\",\"delay\":0.0,\"arrival_time\":1680174420000,\"departure.time\":1680174420000},\"D-389\":{\"direction\":\"P\",\"stopId\":\"nwwar\",\"delay\":0.0,\"arrival_time\":1680175320000,\"departure.time\":1680175320000},\"D-393\":{\"direction\":\"P\",\"stopId\":\"nwwar\",\"delay\":0.0,\"arrival_time\":1680176220000,\"departure.time\":1680176220000}}\n"
     ]
    }
   ],
   "source": [
    "if __name__ == \"__main__\":\n",
    "    delay_df= gtfsRtUpdate('nwwar','P')\n",
    "    print(delay_df)"
   ]
  },
  {
   "cell_type": "code",
   "execution_count": null,
   "metadata": {},
   "outputs": [],
   "source": [
    "\n",
    "\n"
   ]
  }
 ],
 "metadata": {
  "kernelspec": {
   "display_name": "base",
   "language": "python",
   "name": "python3"
  },
  "language_info": {
   "codemirror_mode": {
    "name": "ipython",
    "version": 3
   },
   "file_extension": ".py",
   "mimetype": "text/x-python",
   "name": "python",
   "nbconvert_exporter": "python",
   "pygments_lexer": "ipython3",
   "version": "3.8.10"
  },
  "orig_nbformat": 4
 },
 "nbformat": 4,
 "nbformat_minor": 2
}
